{
 "cells": [
  {
   "cell_type": "markdown",
   "id": "86d74f2e",
   "metadata": {},
   "source": [
    "# Statistics of Roses using Pandas"
   ]
  },
  {
   "cell_type": "markdown",
   "id": "9afef179-4021-43b5-ab49-372b8b771209",
   "metadata": {},
   "source": [
    "The dataset [Rosa.csv](../datasets/Rosa.csv) contains the scientific names of all species of the rose plant in a csv format. The dataset was collected on 12 Jan 2024 from [this article](https://en.wikipedia.org/wiki/List_of_Rosa_species#cite_note-30002432-2-1). Let's read (or load) this file in Python and do some statistics."
   ]
  },
  {
   "cell_type": "code",
   "execution_count": 5,
   "id": "837c64d0",
   "metadata": {},
   "outputs": [],
   "source": [
    "import pandas as pd"
   ]
  },
  {
   "cell_type": "code",
   "execution_count": 6,
   "id": "b56ca740",
   "metadata": {},
   "outputs": [],
   "source": [
    "# Read the csv file with Pandas and assign it to a Pandas object, dataframe\n",
    "df = pd.read_csv('../datasets/Rosa.csv')"
   ]
  },
  {
   "cell_type": "code",
   "execution_count": 7,
   "id": "f9a4002b",
   "metadata": {
    "scrolled": true
   },
   "outputs": [
    {
     "data": {
      "text/html": [
       "<div>\n",
       "<style scoped>\n",
       "    .dataframe tbody tr th:only-of-type {\n",
       "        vertical-align: middle;\n",
       "    }\n",
       "\n",
       "    .dataframe tbody tr th {\n",
       "        vertical-align: top;\n",
       "    }\n",
       "\n",
       "    .dataframe thead th {\n",
       "        text-align: right;\n",
       "    }\n",
       "</style>\n",
       "<table border=\"1\" class=\"dataframe\">\n",
       "  <thead>\n",
       "    <tr style=\"text-align: right;\">\n",
       "      <th></th>\n",
       "      <th>genus</th>\n",
       "      <th>hyb</th>\n",
       "      <th>species</th>\n",
       "    </tr>\n",
       "  </thead>\n",
       "  <tbody>\n",
       "    <tr>\n",
       "      <th>0</th>\n",
       "      <td>Rosa</td>\n",
       "      <td>NaN</td>\n",
       "      <td>abietina</td>\n",
       "    </tr>\n",
       "    <tr>\n",
       "      <th>1</th>\n",
       "      <td>Rosa</td>\n",
       "      <td>NaN</td>\n",
       "      <td>abrica</td>\n",
       "    </tr>\n",
       "    <tr>\n",
       "      <th>2</th>\n",
       "      <td>Rosa</td>\n",
       "      <td>NaN</td>\n",
       "      <td>abutalybovii</td>\n",
       "    </tr>\n",
       "    <tr>\n",
       "      <th>3</th>\n",
       "      <td>Rosa</td>\n",
       "      <td>NaN</td>\n",
       "      <td>abyssinica</td>\n",
       "    </tr>\n",
       "    <tr>\n",
       "      <th>4</th>\n",
       "      <td>Rosa</td>\n",
       "      <td>NaN</td>\n",
       "      <td>achburensis</td>\n",
       "    </tr>\n",
       "    <tr>\n",
       "      <th>...</th>\n",
       "      <td>...</td>\n",
       "      <td>...</td>\n",
       "      <td>...</td>\n",
       "    </tr>\n",
       "    <tr>\n",
       "      <th>322</th>\n",
       "      <td>Rosa</td>\n",
       "      <td>NaN</td>\n",
       "      <td>xanthina</td>\n",
       "    </tr>\n",
       "    <tr>\n",
       "      <th>323</th>\n",
       "      <td>Rosa</td>\n",
       "      <td>NaN</td>\n",
       "      <td>zalana</td>\n",
       "    </tr>\n",
       "    <tr>\n",
       "      <th>324</th>\n",
       "      <td>Rosa</td>\n",
       "      <td>NaN</td>\n",
       "      <td>zaramagensis</td>\n",
       "    </tr>\n",
       "    <tr>\n",
       "      <th>325</th>\n",
       "      <td>Rosa</td>\n",
       "      <td>NaN</td>\n",
       "      <td>zhongdianensis</td>\n",
       "    </tr>\n",
       "    <tr>\n",
       "      <th>326</th>\n",
       "      <td>Rosa</td>\n",
       "      <td>NaN</td>\n",
       "      <td>zuvandica</td>\n",
       "    </tr>\n",
       "  </tbody>\n",
       "</table>\n",
       "<p>327 rows × 3 columns</p>\n",
       "</div>"
      ],
      "text/plain": [
       "    genus  hyb         species\n",
       "0    Rosa  NaN        abietina\n",
       "1    Rosa  NaN          abrica\n",
       "2    Rosa  NaN    abutalybovii\n",
       "3    Rosa  NaN      abyssinica\n",
       "4    Rosa  NaN     achburensis\n",
       "..    ...  ...             ...\n",
       "322  Rosa  NaN        xanthina\n",
       "323  Rosa  NaN          zalana\n",
       "324  Rosa  NaN    zaramagensis\n",
       "325  Rosa  NaN  zhongdianensis\n",
       "326  Rosa  NaN       zuvandica\n",
       "\n",
       "[327 rows x 3 columns]"
      ]
     },
     "execution_count": 7,
     "metadata": {},
     "output_type": "execute_result"
    }
   ],
   "source": [
    "df"
   ]
  },
  {
   "cell_type": "code",
   "execution_count": 8,
   "id": "31644c7d",
   "metadata": {},
   "outputs": [
    {
     "name": "stdout",
     "output_type": "stream",
     "text": [
      "<class 'pandas.core.frame.DataFrame'>\n",
      "RangeIndex: 327 entries, 0 to 326\n",
      "Data columns (total 3 columns):\n",
      " #   Column   Non-Null Count  Dtype \n",
      "---  ------   --------------  ----- \n",
      " 0   genus    327 non-null    object\n",
      " 1   hyb      80 non-null     object\n",
      " 2   species  327 non-null    object\n",
      "dtypes: object(3)\n",
      "memory usage: 7.8+ KB\n"
     ]
    }
   ],
   "source": [
    "df.info()"
   ]
  },
  {
   "cell_type": "code",
   "execution_count": 9,
   "id": "78eb403c",
   "metadata": {},
   "outputs": [
    {
     "data": {
      "text/html": [
       "<div>\n",
       "<style scoped>\n",
       "    .dataframe tbody tr th:only-of-type {\n",
       "        vertical-align: middle;\n",
       "    }\n",
       "\n",
       "    .dataframe tbody tr th {\n",
       "        vertical-align: top;\n",
       "    }\n",
       "\n",
       "    .dataframe thead th {\n",
       "        text-align: right;\n",
       "    }\n",
       "</style>\n",
       "<table border=\"1\" class=\"dataframe\">\n",
       "  <thead>\n",
       "    <tr style=\"text-align: right;\">\n",
       "      <th></th>\n",
       "      <th>genus</th>\n",
       "      <th>hyb</th>\n",
       "      <th>species</th>\n",
       "    </tr>\n",
       "  </thead>\n",
       "  <tbody>\n",
       "    <tr>\n",
       "      <th>0</th>\n",
       "      <td>Rosa</td>\n",
       "      <td>NaN</td>\n",
       "      <td>abietina</td>\n",
       "    </tr>\n",
       "    <tr>\n",
       "      <th>1</th>\n",
       "      <td>Rosa</td>\n",
       "      <td>NaN</td>\n",
       "      <td>abrica</td>\n",
       "    </tr>\n",
       "    <tr>\n",
       "      <th>2</th>\n",
       "      <td>Rosa</td>\n",
       "      <td>NaN</td>\n",
       "      <td>abutalybovii</td>\n",
       "    </tr>\n",
       "    <tr>\n",
       "      <th>3</th>\n",
       "      <td>Rosa</td>\n",
       "      <td>NaN</td>\n",
       "      <td>abyssinica</td>\n",
       "    </tr>\n",
       "    <tr>\n",
       "      <th>4</th>\n",
       "      <td>Rosa</td>\n",
       "      <td>NaN</td>\n",
       "      <td>achburensis</td>\n",
       "    </tr>\n",
       "  </tbody>\n",
       "</table>\n",
       "</div>"
      ],
      "text/plain": [
       "  genus  hyb       species\n",
       "0  Rosa  NaN      abietina\n",
       "1  Rosa  NaN        abrica\n",
       "2  Rosa  NaN  abutalybovii\n",
       "3  Rosa  NaN    abyssinica\n",
       "4  Rosa  NaN   achburensis"
      ]
     },
     "execution_count": 9,
     "metadata": {},
     "output_type": "execute_result"
    }
   ],
   "source": [
    "df.head(5)"
   ]
  },
  {
   "cell_type": "code",
   "execution_count": 10,
   "id": "15b8efe3",
   "metadata": {},
   "outputs": [
    {
     "data": {
      "text/html": [
       "<div>\n",
       "<style scoped>\n",
       "    .dataframe tbody tr th:only-of-type {\n",
       "        vertical-align: middle;\n",
       "    }\n",
       "\n",
       "    .dataframe tbody tr th {\n",
       "        vertical-align: top;\n",
       "    }\n",
       "\n",
       "    .dataframe thead th {\n",
       "        text-align: right;\n",
       "    }\n",
       "</style>\n",
       "<table border=\"1\" class=\"dataframe\">\n",
       "  <thead>\n",
       "    <tr style=\"text-align: right;\">\n",
       "      <th></th>\n",
       "      <th>genus</th>\n",
       "      <th>hyb</th>\n",
       "      <th>species</th>\n",
       "    </tr>\n",
       "  </thead>\n",
       "  <tbody>\n",
       "    <tr>\n",
       "      <th>322</th>\n",
       "      <td>Rosa</td>\n",
       "      <td>NaN</td>\n",
       "      <td>xanthina</td>\n",
       "    </tr>\n",
       "    <tr>\n",
       "      <th>323</th>\n",
       "      <td>Rosa</td>\n",
       "      <td>NaN</td>\n",
       "      <td>zalana</td>\n",
       "    </tr>\n",
       "    <tr>\n",
       "      <th>324</th>\n",
       "      <td>Rosa</td>\n",
       "      <td>NaN</td>\n",
       "      <td>zaramagensis</td>\n",
       "    </tr>\n",
       "    <tr>\n",
       "      <th>325</th>\n",
       "      <td>Rosa</td>\n",
       "      <td>NaN</td>\n",
       "      <td>zhongdianensis</td>\n",
       "    </tr>\n",
       "    <tr>\n",
       "      <th>326</th>\n",
       "      <td>Rosa</td>\n",
       "      <td>NaN</td>\n",
       "      <td>zuvandica</td>\n",
       "    </tr>\n",
       "  </tbody>\n",
       "</table>\n",
       "</div>"
      ],
      "text/plain": [
       "    genus  hyb         species\n",
       "322  Rosa  NaN        xanthina\n",
       "323  Rosa  NaN          zalana\n",
       "324  Rosa  NaN    zaramagensis\n",
       "325  Rosa  NaN  zhongdianensis\n",
       "326  Rosa  NaN       zuvandica"
      ]
     },
     "execution_count": 10,
     "metadata": {},
     "output_type": "execute_result"
    }
   ],
   "source": [
    "df.tail(5)"
   ]
  },
  {
   "cell_type": "code",
   "execution_count": 11,
   "id": "2979357b",
   "metadata": {},
   "outputs": [
    {
     "data": {
      "text/html": [
       "<div>\n",
       "<style scoped>\n",
       "    .dataframe tbody tr th:only-of-type {\n",
       "        vertical-align: middle;\n",
       "    }\n",
       "\n",
       "    .dataframe tbody tr th {\n",
       "        vertical-align: top;\n",
       "    }\n",
       "\n",
       "    .dataframe thead th {\n",
       "        text-align: right;\n",
       "    }\n",
       "</style>\n",
       "<table border=\"1\" class=\"dataframe\">\n",
       "  <thead>\n",
       "    <tr style=\"text-align: right;\">\n",
       "      <th></th>\n",
       "      <th>genus</th>\n",
       "      <th>hyb</th>\n",
       "      <th>species</th>\n",
       "    </tr>\n",
       "  </thead>\n",
       "  <tbody>\n",
       "    <tr>\n",
       "      <th>count</th>\n",
       "      <td>327</td>\n",
       "      <td>80</td>\n",
       "      <td>327</td>\n",
       "    </tr>\n",
       "    <tr>\n",
       "      <th>unique</th>\n",
       "      <td>1</td>\n",
       "      <td>1</td>\n",
       "      <td>327</td>\n",
       "    </tr>\n",
       "    <tr>\n",
       "      <th>top</th>\n",
       "      <td>Rosa</td>\n",
       "      <td>x</td>\n",
       "      <td>abietina</td>\n",
       "    </tr>\n",
       "    <tr>\n",
       "      <th>freq</th>\n",
       "      <td>327</td>\n",
       "      <td>80</td>\n",
       "      <td>1</td>\n",
       "    </tr>\n",
       "  </tbody>\n",
       "</table>\n",
       "</div>"
      ],
      "text/plain": [
       "       genus hyb   species\n",
       "count    327  80       327\n",
       "unique     1   1       327\n",
       "top     Rosa   x  abietina\n",
       "freq     327  80         1"
      ]
     },
     "execution_count": 11,
     "metadata": {},
     "output_type": "execute_result"
    }
   ],
   "source": [
    "df.describe()"
   ]
  },
  {
   "cell_type": "code",
   "execution_count": 12,
   "id": "a82853eb",
   "metadata": {},
   "outputs": [
    {
     "data": {
      "text/html": [
       "<div>\n",
       "<style scoped>\n",
       "    .dataframe tbody tr th:only-of-type {\n",
       "        vertical-align: middle;\n",
       "    }\n",
       "\n",
       "    .dataframe tbody tr th {\n",
       "        vertical-align: top;\n",
       "    }\n",
       "\n",
       "    .dataframe thead th {\n",
       "        text-align: right;\n",
       "    }\n",
       "</style>\n",
       "<table border=\"1\" class=\"dataframe\">\n",
       "  <thead>\n",
       "    <tr style=\"text-align: right;\">\n",
       "      <th></th>\n",
       "      <th>genus</th>\n",
       "      <th>hyb</th>\n",
       "      <th>species</th>\n",
       "    </tr>\n",
       "  </thead>\n",
       "  <tbody>\n",
       "    <tr>\n",
       "      <th>count</th>\n",
       "      <td>80</td>\n",
       "      <td>80</td>\n",
       "      <td>80</td>\n",
       "    </tr>\n",
       "    <tr>\n",
       "      <th>unique</th>\n",
       "      <td>1</td>\n",
       "      <td>1</td>\n",
       "      <td>80</td>\n",
       "    </tr>\n",
       "    <tr>\n",
       "      <th>top</th>\n",
       "      <td>Rosa</td>\n",
       "      <td>x</td>\n",
       "      <td>alpestris</td>\n",
       "    </tr>\n",
       "    <tr>\n",
       "      <th>freq</th>\n",
       "      <td>80</td>\n",
       "      <td>80</td>\n",
       "      <td>1</td>\n",
       "    </tr>\n",
       "  </tbody>\n",
       "</table>\n",
       "</div>"
      ],
      "text/plain": [
       "       genus hyb    species\n",
       "count     80  80         80\n",
       "unique     1   1         80\n",
       "top     Rosa   x  alpestris\n",
       "freq      80  80          1"
      ]
     },
     "execution_count": 12,
     "metadata": {},
     "output_type": "execute_result"
    }
   ],
   "source": [
    "# Extract hybrid species for which the second column is 'x'\n",
    "\n",
    "df_hybrid = df[df['hyb'] == 'x']\n",
    "# df_hybrid=df[df.iloc[:, 1] == 'x'] # does the same as last line\n",
    "\n",
    "df_hybrid.describe()"
   ]
  },
  {
   "cell_type": "code",
   "execution_count": 13,
   "id": "07e3e028",
   "metadata": {},
   "outputs": [
    {
     "name": "stdout",
     "output_type": "stream",
     "text": [
      "Number of hybrid species of the Rose plant is: 80\n"
     ]
    }
   ],
   "source": [
    "count_hyb = df_hybrid.shape[0]\n",
    "\n",
    "print(f\"Number of hybrid species of the Rose plant is: {count_hyb}\")"
   ]
  },
  {
   "cell_type": "code",
   "execution_count": 14,
   "id": "c6d820dd",
   "metadata": {},
   "outputs": [
    {
     "data": {
      "text/html": [
       "<div>\n",
       "<style scoped>\n",
       "    .dataframe tbody tr th:only-of-type {\n",
       "        vertical-align: middle;\n",
       "    }\n",
       "\n",
       "    .dataframe tbody tr th {\n",
       "        vertical-align: top;\n",
       "    }\n",
       "\n",
       "    .dataframe thead th {\n",
       "        text-align: right;\n",
       "    }\n",
       "</style>\n",
       "<table border=\"1\" class=\"dataframe\">\n",
       "  <thead>\n",
       "    <tr style=\"text-align: right;\">\n",
       "      <th></th>\n",
       "      <th>genus</th>\n",
       "      <th>hyb</th>\n",
       "      <th>species</th>\n",
       "    </tr>\n",
       "  </thead>\n",
       "  <tbody>\n",
       "    <tr>\n",
       "      <th>count</th>\n",
       "      <td>247</td>\n",
       "      <td>0</td>\n",
       "      <td>247</td>\n",
       "    </tr>\n",
       "    <tr>\n",
       "      <th>unique</th>\n",
       "      <td>1</td>\n",
       "      <td>0</td>\n",
       "      <td>247</td>\n",
       "    </tr>\n",
       "    <tr>\n",
       "      <th>top</th>\n",
       "      <td>Rosa</td>\n",
       "      <td>NaN</td>\n",
       "      <td>abietina</td>\n",
       "    </tr>\n",
       "    <tr>\n",
       "      <th>freq</th>\n",
       "      <td>247</td>\n",
       "      <td>NaN</td>\n",
       "      <td>1</td>\n",
       "    </tr>\n",
       "  </tbody>\n",
       "</table>\n",
       "</div>"
      ],
      "text/plain": [
       "       genus  hyb   species\n",
       "count    247    0       247\n",
       "unique     1    0       247\n",
       "top     Rosa  NaN  abietina\n",
       "freq     247  NaN         1"
      ]
     },
     "execution_count": 14,
     "metadata": {},
     "output_type": "execute_result"
    }
   ],
   "source": [
    "df_pure = df[df['hyb'].isna()]\n",
    "df_pure.describe()"
   ]
  },
  {
   "cell_type": "code",
   "execution_count": 15,
   "id": "bd0377b8",
   "metadata": {},
   "outputs": [
    {
     "name": "stdout",
     "output_type": "stream",
     "text": [
      "Number of pure species of the Rose plant is: 247\n"
     ]
    }
   ],
   "source": [
    "count_pure = df_pure.shape[0]\n",
    "\n",
    "print(f\"Number of pure species of the Rose plant is: {count_pure}\")"
   ]
  },
  {
   "cell_type": "code",
   "execution_count": 16,
   "id": "3e68eb4f",
   "metadata": {},
   "outputs": [
    {
     "data": {
      "image/png": "[encoded data removed]",
      "text/plain": [
       "<Figure size 640x480 with 1 Axes>"
      ]
     },
     "metadata": {},
     "output_type": "display_data"
    }
   ],
   "source": [
    "import matplotlib.pyplot as plt\n",
    "\n",
    "counts = [count_hyb, count_pure] \n",
    "\n",
    "labels = ['Hybrid', 'Pure']\n",
    "\n",
    "# choose colors from \n",
    "# https://matplotlib.org/2.0.2/examples/color/named_colors.html\n",
    "mycolors = ['rosybrown', 'mistyrose']\n",
    "\n",
    "# Create a bar plot\n",
    "plt.bar(labels, counts, color=mycolors)\n",
    "plt.xlabel('Rose species')\n",
    "plt.ylabel('Frequency')\n",
    "plt.title('Histogram of Hybrid/Pure Rose species')\n",
    "\n",
    "plt.savefig('histogram_rose.png')\n",
    "# plt.savefig('histogram_rose.pdf')\n",
    "\n",
    "plt.show()"
   ]
  },
  {
   "cell_type": "code",
   "execution_count": 17,
   "id": "7a6a3ac8",
   "metadata": {},
   "outputs": [],
   "source": [
    "df_hybrid.to_csv('../datasets/Hybrid_species.csv', index = False)\n",
    "\n",
    "df_pure.to_csv('../datasets/Pure_species.csv', index = False)"
   ]
  },
  {
   "cell_type": "code",
   "execution_count": 18,
   "id": "a495b335",
   "metadata": {},
   "outputs": [
    {
     "data": {
      "text/plain": [
       "<Axes: xlabel='sepal length (cm)', ylabel='sepal width (cm)'>"
      ]
     },
     "execution_count": 18,
     "metadata": {},
     "output_type": "execute_result"
    },
    {
     "data": {
      "image/png": "[encoded data removed]",
      "text/plain": [
       "<Figure size 640x480 with 1 Axes>"
      ]
     },
     "metadata": {},
     "output_type": "display_data"
    }
   ],
   "source": [
    "from sklearn.datasets import load_iris\n",
    "\n",
    "iris=load_iris()\n",
    "iris_df = pd.DataFrame(data=iris.data, columns=iris.feature_names)\n",
    "\n",
    "iris_df.plot(kind='scatter', x='sepal length (cm)', y='sepal width (cm)' )"
   ]
  },
  {
   "cell_type": "code",
   "execution_count": 19,
   "id": "f9b656ee",
   "metadata": {},
   "outputs": [
    {
     "name": "stdout",
     "output_type": "stream",
     "text": [
      "       sepal length (cm)  sepal width (cm)  petal length (cm)  \\\n",
      "count         150.000000        150.000000         150.000000   \n",
      "mean            5.843333          3.057333           3.758000   \n",
      "std             0.828066          0.435866           1.765298   \n",
      "min             4.300000          2.000000           1.000000   \n",
      "25%             5.100000          2.800000           1.600000   \n",
      "50%             5.800000          3.000000           4.350000   \n",
      "75%             6.400000          3.300000           5.100000   \n",
      "max             7.900000          4.400000           6.900000   \n",
      "\n",
      "       petal width (cm)  \n",
      "count        150.000000  \n",
      "mean           1.199333  \n",
      "std            0.762238  \n",
      "min            0.100000  \n",
      "25%            0.300000  \n",
      "50%            1.300000  \n",
      "75%            1.800000  \n",
      "max            2.500000  \n"
     ]
    }
   ],
   "source": [
    "print(iris_df.describe())"
   ]
  },
  {
   "cell_type": "code",
   "execution_count": 20,
   "id": "ec9ceda7",
   "metadata": {},
   "outputs": [
    {
     "name": "stdout",
     "output_type": "stream",
     "text": [
      "<class 'pandas.core.frame.DataFrame'>\n",
      "RangeIndex: 150 entries, 0 to 149\n",
      "Data columns (total 4 columns):\n",
      " #   Column             Non-Null Count  Dtype  \n",
      "---  ------             --------------  -----  \n",
      " 0   sepal length (cm)  150 non-null    float64\n",
      " 1   sepal width (cm)   150 non-null    float64\n",
      " 2   petal length (cm)  150 non-null    float64\n",
      " 3   petal width (cm)   150 non-null    float64\n",
      "dtypes: float64(4)\n",
      "memory usage: 4.8 KB\n",
      "None\n"
     ]
    }
   ],
   "source": [
    " print(iris_df.info())"
   ]
  },
  {
   "cell_type": "code",
   "execution_count": 21,
   "id": "ba1a43d9",
   "metadata": {},
   "outputs": [
    {
     "name": "stdout",
     "output_type": "stream",
     "text": [
      "sepal length (cm)    876.5\n",
      "sepal width (cm)     458.6\n",
      "petal length (cm)    563.7\n",
      "petal width (cm)     179.9\n",
      "dtype: float64\n"
     ]
    }
   ],
   "source": [
    " print(iris_df.sum())"
   ]
  },
  {
   "cell_type": "code",
   "execution_count": 22,
   "id": "69ddb6f6",
   "metadata": {},
   "outputs": [
    {
     "name": "stdout",
     "output_type": "stream",
     "text": [
      "sepal length (cm)    5.843333\n",
      "sepal width (cm)     3.057333\n",
      "petal length (cm)    3.758000\n",
      "petal width (cm)     1.199333\n",
      "dtype: float64\n"
     ]
    }
   ],
   "source": [
    "print(iris_df.mean())"
   ]
  },
  {
   "cell_type": "code",
   "execution_count": 23,
   "id": "178a8464",
   "metadata": {},
   "outputs": [
    {
     "name": "stdout",
     "output_type": "stream",
     "text": [
      "sepal length (cm)    5.80\n",
      "sepal width (cm)     3.00\n",
      "petal length (cm)    4.35\n",
      "petal width (cm)     1.30\n",
      "dtype: float64\n"
     ]
    }
   ],
   "source": [
    "print(iris_df.median())"
   ]
  },
  {
   "cell_type": "code",
   "execution_count": 24,
   "id": "ba1a9f6d",
   "metadata": {},
   "outputs": [
    {
     "name": "stdout",
     "output_type": "stream",
     "text": [
      "sepal length (cm)    7.9\n",
      "sepal width (cm)     4.4\n",
      "petal length (cm)    6.9\n",
      "petal width (cm)     2.5\n",
      "dtype: float64\n"
     ]
    }
   ],
   "source": [
    "print(iris_df.max())"
   ]
  },
  {
   "cell_type": "code",
   "execution_count": 25,
   "id": "d35da6c6",
   "metadata": {},
   "outputs": [
    {
     "name": "stdout",
     "output_type": "stream",
     "text": [
      "sepal length (cm)    4.3\n",
      "sepal width (cm)     2.0\n",
      "petal length (cm)    1.0\n",
      "petal width (cm)     0.1\n",
      "dtype: float64\n"
     ]
    }
   ],
   "source": [
    "print(iris_df.min())"
   ]
  },
  {
   "cell_type": "code",
   "execution_count": null,
   "id": "c398ba58",
   "metadata": {},
   "outputs": [],
   "source": []
  }
 ],
 "metadata": {
  "kernelspec": {
   "display_name": "Python 3 (ipykernel)",
   "language": "python",
   "name": "python3"
  },
  "language_info": {
   "codemirror_mode": {
    "name": "ipython",
    "version": 3
   },
   "file_extension": ".py",
   "mimetype": "text/x-python",
   "name": "python",
   "nbconvert_exporter": "python",
   "pygments_lexer": "ipython3",
   "version": "3.11.5"
  }
 },
 "nbformat": 4,
 "nbformat_minor": 5
}
