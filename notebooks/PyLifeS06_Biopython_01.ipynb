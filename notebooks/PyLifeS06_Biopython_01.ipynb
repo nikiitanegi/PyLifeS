{
 "cells": [
  {
   "cell_type": "markdown",
   "id": "0d2f42f4",
   "metadata": {},
   "source": [
    "# BIOPYTHON"
   ]
  },
  {
   "cell_type": "markdown",
   "id": "842ea138",
   "metadata": {},
   "source": [
    "Biopython is a package for bioinformatics tasks such as sequence manipulation, plotting, population genetics, cluster analysis, genome analysis, etc. The package also has various databases (PDB, GenBank, FASTA, etc.)."
   ]
  },
  {
   "cell_type": "markdown",
   "id": "52fc056a",
   "metadata": {},
   "source": [
    "Let's check the version!"
   ]
  },
  {
   "cell_type": "code",
   "execution_count": 1,
   "id": "f12ee371",
   "metadata": {},
   "outputs": [
    {
     "name": "stdout",
     "output_type": "stream",
     "text": [
      "1.83\n"
     ]
    }
   ],
   "source": [
    "import Bio\n",
    "print(Bio.__version__)"
   ]
  },
  {
   "cell_type": "markdown",
   "id": "fd23e69b",
   "metadata": {},
   "source": [
    "# 1. Basic classes"
   ]
  },
  {
   "cell_type": "markdown",
   "id": "38d02f00",
   "metadata": {},
   "source": [
    "- Some basic classes in Biopython are `Seq`, `SeqRecord`, `SeqFeature`, and `SeqIO`. "
   ]
  },
  {
   "cell_type": "markdown",
   "id": "89b36aa6",
   "metadata": {},
   "source": [
    "## 1.1 `Seq`"
   ]
  },
  {
   "cell_type": "markdown",
   "id": "9c16a192",
   "metadata": {},
   "source": [
    "The Seq class in Biopython is particularly useful for representing and manipulating biological sequences, such as DNA, RNA, or protein sequences. It allows you to perform various operations on these sequences, such as reverse complementation, transcription, translation, and more."
   ]
  },
  {
   "cell_type": "code",
   "execution_count": 2,
   "id": "3ea5ecbc",
   "metadata": {},
   "outputs": [
    {
     "name": "stdout",
     "output_type": "stream",
     "text": [
      "MADQLTEEQIAEFKEAFSLFDKDGDGTITTKELGTVMRSLGQN\n"
     ]
    }
   ],
   "source": [
    "from Bio.Seq import Seq \n",
    "\n",
    "seq='MADQLTEEQIAEFKEAFSLFDKDGDGTITTKELGTVMRSLGQN'\n",
    "seq=Seq(seq) \n",
    "\n",
    "print(seq)"
   ]
  },
  {
   "cell_type": "code",
   "execution_count": 3,
   "id": "bcea9237",
   "metadata": {},
   "outputs": [
    {
     "data": {
      "text/plain": [
       "1"
      ]
     },
     "execution_count": 3,
     "metadata": {},
     "output_type": "execute_result"
    }
   ],
   "source": [
    "seq.find('A') "
   ]
  },
  {
   "cell_type": "code",
   "execution_count": 4,
   "id": "fa883056",
   "metadata": {},
   "outputs": [
    {
     "data": {
      "text/plain": [
       "8"
      ]
     },
     "execution_count": 4,
     "metadata": {},
     "output_type": "execute_result"
    }
   ],
   "source": [
    "seq.find('QIA') "
   ]
  },
  {
   "cell_type": "code",
   "execution_count": 5,
   "id": "38930822",
   "metadata": {},
   "outputs": [
    {
     "name": "stdout",
     "output_type": "stream",
     "text": [
      "Original DNA sequence: ATCG\n",
      "Reverse complement: CGAT\n"
     ]
    }
   ],
   "source": [
    "# Create a DNA sequence\n",
    "dna_sequence = Seq(\"ATCG\")\n",
    "\n",
    "# Get the reverse complement\n",
    "reverse_complement = dna_sequence.reverse_complement()\n",
    "\n",
    "print(\"Original DNA sequence:\", dna_sequence)\n",
    "print(\"Reverse complement:\", reverse_complement)"
   ]
  },
  {
   "cell_type": "markdown",
   "id": "c72265ed",
   "metadata": {},
   "source": [
    "The `reverse_complement()` method is a functionality provided by the Biopython library's Seq class for working with biological sequences, such as DNA. This method generates the reverse complement of a given sequence. Let me break down what \"reverse complement\" means:\n",
    "\n",
    "    Reverse: This refers to reversing the order of the elements in the sequence. For example, if you have the sequence \"ATCG,\" the reverse would be \"GCTA.\"\n",
    "\n",
    "    Complement: In the context of DNA sequences, each nucleotide has a complementary nucleotide that forms a base pair. The complementary base pairs are adenine (A) with thymine (T) and cytosine (C) with guanine (G). So, the complement of \"A\" is \"T,\" and the complement of \"C\" is \"G.\"\n",
    "\n",
    "The `reverse_complement()` method combines these two operations. It first reverses the order of the sequence and then replaces each nucleotide with its complementary nucleotide, resulting in the reverse complement of the original sequence."
   ]
  },
  {
   "cell_type": "markdown",
   "id": "59f8567c",
   "metadata": {},
   "source": [
    "The reverse_complement() function is important in molecular biology and bioinformatics for several reasons:\n",
    "\n",
    "    Base Pairing in DNA: In DNA, adenine (A) always pairs with thymine (T), and cytosine (C) always pairs with guanine (G). Knowing the reverse complement of a DNA sequence is crucial for various analyses, such as primer design for PCR (polymerase chain reaction) or sequencing experiments. When designing primers or probes, researchers often use the reverse complement to ensure specificity and efficiency.\n",
    "\n",
    "    Sequence Analysis: When comparing or aligning DNA sequences, it is common to use the reverse complement to identify regions of similarity or homology. This is particularly important in tasks like sequence alignment, where understanding the complementary nature of DNA strands helps in recognizing conserved regions or identifying mutations.\n",
    "\n",
    "    Transcription and Translation: In molecular biology, DNA is transcribed into RNA, and RNA is translated into proteins. During transcription, the RNA sequence is synthesized based on the DNA template, and the RNA sequence is the reverse complement of the DNA coding strand. Understanding the reverse complement is essential for predicting the transcribed RNA sequence accurately."
   ]
  },
  {
   "cell_type": "markdown",
   "id": "bceda012",
   "metadata": {},
   "source": [
    "## 1.2 `SeqRecord`"
   ]
  },
  {
   "cell_type": "markdown",
   "id": "79f99ac6",
   "metadata": {},
   "source": [
    "The SeqRecord class is part of Biopython and is used to represent a biological sequence along with associated metadata. A biological sequence could be a DNA sequence, RNA sequence, protein sequence, or any other type of biological molecule."
   ]
  },
  {
   "cell_type": "code",
   "execution_count": 6,
   "id": "3bd9a7db",
   "metadata": {},
   "outputs": [
    {
     "name": "stdout",
     "output_type": "stream",
     "text": [
      "ID: example_id\n",
      "Name: <unknown name>\n",
      "Description: Example Sequence\n",
      "Number of features: 0\n",
      "Seq('MADQLTEEQIAEFKEAFSLFDKDGDGTITTKELGTVMRSLGQN')\n"
     ]
    }
   ],
   "source": [
    "from Bio.SeqRecord import SeqRecord\n",
    "\n",
    "seq = SeqRecord(seq, id=\"example_id\", description=\"Example Sequence\")\n",
    "print(seq)"
   ]
  },
  {
   "cell_type": "markdown",
   "id": "9b6406e5",
   "metadata": {},
   "source": [
    "## 1.3 `SeqFeature`"
   ]
  },
  {
   "cell_type": "markdown",
   "id": "97a98e83",
   "metadata": {},
   "source": [
    "The `FeatureLocation` class specifies the start and end positions of the feature."
   ]
  },
  {
   "cell_type": "code",
   "execution_count": 7,
   "id": "35e381db",
   "metadata": {},
   "outputs": [
    {
     "name": "stdout",
     "output_type": "stream",
     "text": [
      "type: gene\n",
      "location: [1:5]\n",
      "qualifiers:\n",
      "\n"
     ]
    }
   ],
   "source": [
    "from Bio.SeqFeature import SeqFeature, FeatureLocation\n",
    "seq = SeqFeature(FeatureLocation(start=1, end=5), type=\"gene\")\n",
    "print(seq)"
   ]
  },
  {
   "cell_type": "markdown",
   "id": "8a12ccae",
   "metadata": {},
   "source": [
    "## 1.4 `SeqIO`"
   ]
  },
  {
   "cell_type": "markdown",
   "id": "f8e5083a",
   "metadata": {},
   "source": [
    "### Working with FASTA file"
   ]
  },
  {
   "cell_type": "markdown",
   "id": "115d4a20",
   "metadata": {},
   "source": [
    "To learn about `SeqIO` let's create a fasta file with some records."
   ]
  },
  {
   "cell_type": "code",
   "execution_count": 8,
   "id": "36723a18",
   "metadata": {},
   "outputs": [],
   "source": [
    "# Sequence from wikipedia: https://en.wikipedia.org/wiki/FASTA_format\n",
    "\n",
    "seq_test = '''\n",
    ">MCHU - Calmodulin - Human, rabbit, bovine, rat, and chicken\n",
    "MADQLTEEQIAEFKEAFSLFDKDGDGTITTKELGTVMRSLGQNPTEAELQDMINEVDADGNGTID\n",
    "FPEFLTMMARKMKDTDSEEEIREAFRVFDKDGNGYISAAELRHVMTNLGEKLTDEEVDEMIREA\n",
    "DIDGDGQVNYEEFVQMMTAK*\n",
    "'''\n",
    "\n",
    "# Open the file in write mode ('w') and write the content\n",
    "with open('calmodulin.fasta', 'w') as file:\n",
    "    file.write(seq_test)"
   ]
  },
  {
   "cell_type": "markdown",
   "id": "83acd054",
   "metadata": {},
   "source": [
    "Now let's use `SeqIO` to read the content of the file."
   ]
  },
  {
   "cell_type": "code",
   "execution_count": 9,
   "id": "6db38c45",
   "metadata": {},
   "outputs": [
    {
     "name": "stdout",
     "output_type": "stream",
     "text": [
      "Id: MCHU\n",
      "Name: MCHU\n",
      "Description: MCHU - Calmodulin - Human, rabbit, bovine, rat, and chicken\n",
      "Sequence Data: MADQLTEEQIAEFKEAFSLFDKDGDGTITTKELGTVMRSLGQNPTEAELQDMINEVDADGNGTIDFPEFLTMMARKMKDTDSEEEIREAFRVFDKDGNGYISAAELRHVMTNLGEKLTDEEVDEMIREADIDGDGQVNYEEFVQMMTAK*\n"
     ]
    }
   ],
   "source": [
    "from Bio.SeqIO import parse \n",
    "# or use `from Bio import SeqIO` and use `SeqIO.parse`\n",
    "\n",
    "file = open(\"calmodulin.fasta\") \n",
    "\n",
    "records = parse(file, \"fasta\") \n",
    "\n",
    "for record in records:  # we have only one record in the file  \n",
    "   print(\"Id: %s\" % record.id) \n",
    "   print(\"Name: %s\" % record.name) \n",
    "   print(\"Description: %s\" % record.description) \n",
    "   print(\"Sequence Data: %s\" % record.seq) "
   ]
  },
  {
   "cell_type": "markdown",
   "id": "7c62b9d5",
   "metadata": {},
   "source": [
    "# 2. `Bio.Data`"
   ]
  },
  {
   "cell_type": "markdown",
   "id": "7d815b5b",
   "metadata": {},
   "source": [
    "In Biopython, `Bio.Data` is a module that provides access to various data resources and dictionaries used in bioinformatics analyses. "
   ]
  },
  {
   "cell_type": "markdown",
   "id": "6fa71059",
   "metadata": {},
   "source": [
    "## 2.1 `IUPACData`"
   ]
  },
  {
   "cell_type": "markdown",
   "id": "223d4efd",
   "metadata": {},
   "source": [
    "In Biopython, `IUPACData.ambiguous_dna_complement` is a dictionary that provides the complement of ambiguous DNA sequences. The International Union of Pure and Applied Chemistry (IUPAC) has defined a set of codes to represent ambiguity in DNA sequences where a particular position could be one of multiple nucleotides. The complement of an ambiguous DNA sequence is the sequence obtained by replacing each nucleotide with its complement.\n",
    "\n",
    "For example, the IUPAC ambiguity codes for DNA include:\n",
    "\n",
    "    R: A or G\n",
    "    Y: C or T\n",
    "    M: A or C\n",
    "    K: G or T\n",
    "    S: C or G\n",
    "    W: A or T\n",
    "    H: A, C, or T\n",
    "    B: C, G, or T\n",
    "    V: A, C, or G\n",
    "    D: A, G, or T\n",
    "    N: Any nucleotide (A, C, G, or T)"
   ]
  },
  {
   "cell_type": "code",
   "execution_count": 10,
   "id": "f4d89fd6",
   "metadata": {},
   "outputs": [
    {
     "name": "stdout",
     "output_type": "stream",
     "text": [
      "{'A': 'T',\n",
      " 'B': 'V',\n",
      " 'C': 'G',\n",
      " 'D': 'H',\n",
      " 'G': 'C',\n",
      " 'H': 'D',\n",
      " 'K': 'M',\n",
      " 'M': 'K',\n",
      " 'N': 'N',\n",
      " 'R': 'Y',\n",
      " 'S': 'S',\n",
      " 'T': 'A',\n",
      " 'V': 'B',\n",
      " 'W': 'W',\n",
      " 'X': 'X',\n",
      " 'Y': 'R'}\n"
     ]
    }
   ],
   "source": [
    "from Bio.Data import IUPACData \n",
    "import pprint \n",
    "\n",
    "# The pprint.pprint function to print the complement data in a more organized and readable format. \n",
    "pprint.pprint(IUPACData.ambiguous_dna_complement)"
   ]
  },
  {
   "cell_type": "code",
   "execution_count": 11,
   "id": "66e65876",
   "metadata": {},
   "outputs": [
    {
     "name": "stdout",
     "output_type": "stream",
     "text": [
      "Complement of 'R' is: Y\n",
      "Complement of 'A' is: T\n"
     ]
    }
   ],
   "source": [
    "from Bio.SeqUtils import IUPACData\n",
    "\n",
    "complement_of_R = IUPACData.ambiguous_dna_complement[\"R\"]\n",
    "print(f\"Complement of 'R' is: {complement_of_R}\")\n",
    "\n",
    "complement_of_R = IUPACData.ambiguous_dna_complement[\"A\"]\n",
    "print(f\"Complement of 'A' is: {complement_of_R}\")"
   ]
  },
  {
   "cell_type": "markdown",
   "id": "6913cf59",
   "metadata": {},
   "source": [
    "## 2.2 Codon table"
   ]
  },
  {
   "cell_type": "markdown",
   "id": "1f8cb48e",
   "metadata": {},
   "source": [
    "A codon table can be used to translate a genetic code into a sequence of amino acids. The standard genetic code is traditionally represented as an RNA codon table, because when proteins are made in a cell by ribosomes, it is messenger RNA (mRNA) that directs protein synthesis. The mRNA sequence is determined by the sequence of genomic DNA. In this context, the standard genetic code is referred to as translation table. It can also be represented in a DNA codon table. \n",
    "\n",
    "from [Wikipedia](https://en.wikipedia.org/wiki/DNA_and_RNA_codon_tables)"
   ]
  },
  {
   "cell_type": "markdown",
   "id": "14e101be",
   "metadata": {},
   "source": [
    "Let's print the DNA codon table using `Bio.Data` "
   ]
  },
  {
   "cell_type": "code",
   "execution_count": 12,
   "id": "5d63c2e2",
   "metadata": {},
   "outputs": [
    {
     "name": "stdout",
     "output_type": "stream",
     "text": [
      "Table 1 Standard, SGC0\n",
      "\n",
      "  |  T      |  C      |  A      |  G      |\n",
      "--+---------+---------+---------+---------+--\n",
      "T | TTT F   | TCT S   | TAT Y   | TGT C   | T\n",
      "T | TTC F   | TCC S   | TAC Y   | TGC C   | C\n",
      "T | TTA L   | TCA S   | TAA Stop| TGA Stop| A\n",
      "T | TTG L(s)| TCG S   | TAG Stop| TGG W   | G\n",
      "--+---------+---------+---------+---------+--\n",
      "C | CTT L   | CCT P   | CAT H   | CGT R   | T\n",
      "C | CTC L   | CCC P   | CAC H   | CGC R   | C\n",
      "C | CTA L   | CCA P   | CAA Q   | CGA R   | A\n",
      "C | CTG L(s)| CCG P   | CAG Q   | CGG R   | G\n",
      "--+---------+---------+---------+---------+--\n",
      "A | ATT I   | ACT T   | AAT N   | AGT S   | T\n",
      "A | ATC I   | ACC T   | AAC N   | AGC S   | C\n",
      "A | ATA I   | ACA T   | AAA K   | AGA R   | A\n",
      "A | ATG M(s)| ACG T   | AAG K   | AGG R   | G\n",
      "--+---------+---------+---------+---------+--\n",
      "G | GTT V   | GCT A   | GAT D   | GGT G   | T\n",
      "G | GTC V   | GCC A   | GAC D   | GGC G   | C\n",
      "G | GTA V   | GCA A   | GAA E   | GGA G   | A\n",
      "G | GTG V   | GCG A   | GAG E   | GGG G   | G\n",
      "--+---------+---------+---------+---------+--\n"
     ]
    }
   ],
   "source": [
    "from Bio.Data import CodonTable \n",
    "table = CodonTable.unambiguous_dna_by_name[\"Standard\"] \n",
    "print(table) "
   ]
  },
  {
   "cell_type": "markdown",
   "id": "79902ab8",
   "metadata": {},
   "source": [
    "`TAA` (ochre), `TAG` (amber), and `TGA` (opal) are the three stop codons in the genetic code. When the ribosome encounters one of these stop codons during translation, it signals the end of the protein-coding region and initiates the process of translation termination."
   ]
  },
  {
   "cell_type": "code",
   "execution_count": 13,
   "id": "72f09001",
   "metadata": {},
   "outputs": [
    {
     "name": "stdout",
     "output_type": "stream",
     "text": [
      "Codon: TTT, Amino Acid: F\n",
      "Codon: TTC, Amino Acid: F\n",
      "Codon: TTA, Amino Acid: L\n",
      "Codon: TTG, Amino Acid: L\n",
      "Codon: TCT, Amino Acid: S\n",
      "Codon: TCC, Amino Acid: S\n",
      "Codon: TCA, Amino Acid: S\n",
      "Codon: TCG, Amino Acid: S\n",
      "Codon: TAT, Amino Acid: Y\n",
      "Codon: TAC, Amino Acid: Y\n",
      "Codon: TGT, Amino Acid: C\n",
      "Codon: TGC, Amino Acid: C\n",
      "Codon: TGG, Amino Acid: W\n",
      "Codon: CTT, Amino Acid: L\n",
      "Codon: CTC, Amino Acid: L\n",
      "Codon: CTA, Amino Acid: L\n",
      "Codon: CTG, Amino Acid: L\n",
      "Codon: CCT, Amino Acid: P\n",
      "Codon: CCC, Amino Acid: P\n",
      "Codon: CCA, Amino Acid: P\n",
      "Codon: CCG, Amino Acid: P\n",
      "Codon: CAT, Amino Acid: H\n",
      "Codon: CAC, Amino Acid: H\n",
      "Codon: CAA, Amino Acid: Q\n",
      "Codon: CAG, Amino Acid: Q\n",
      "Codon: CGT, Amino Acid: R\n",
      "Codon: CGC, Amino Acid: R\n",
      "Codon: CGA, Amino Acid: R\n",
      "Codon: CGG, Amino Acid: R\n",
      "Codon: ATT, Amino Acid: I\n",
      "Codon: ATC, Amino Acid: I\n",
      "Codon: ATA, Amino Acid: I\n",
      "Codon: ATG, Amino Acid: M\n",
      "Codon: ACT, Amino Acid: T\n",
      "Codon: ACC, Amino Acid: T\n",
      "Codon: ACA, Amino Acid: T\n",
      "Codon: ACG, Amino Acid: T\n",
      "Codon: AAT, Amino Acid: N\n",
      "Codon: AAC, Amino Acid: N\n",
      "Codon: AAA, Amino Acid: K\n",
      "Codon: AAG, Amino Acid: K\n",
      "Codon: AGT, Amino Acid: S\n",
      "Codon: AGC, Amino Acid: S\n",
      "Codon: AGA, Amino Acid: R\n",
      "Codon: AGG, Amino Acid: R\n",
      "Codon: GTT, Amino Acid: V\n",
      "Codon: GTC, Amino Acid: V\n",
      "Codon: GTA, Amino Acid: V\n",
      "Codon: GTG, Amino Acid: V\n",
      "Codon: GCT, Amino Acid: A\n",
      "Codon: GCC, Amino Acid: A\n",
      "Codon: GCA, Amino Acid: A\n",
      "Codon: GCG, Amino Acid: A\n",
      "Codon: GAT, Amino Acid: D\n",
      "Codon: GAC, Amino Acid: D\n",
      "Codon: GAA, Amino Acid: E\n",
      "Codon: GAG, Amino Acid: E\n",
      "Codon: GGT, Amino Acid: G\n",
      "Codon: GGC, Amino Acid: G\n",
      "Codon: GGA, Amino Acid: G\n",
      "Codon: GGG, Amino Acid: G\n"
     ]
    }
   ],
   "source": [
    "from Bio.Data import CodonTable\n",
    "\n",
    "# Specify the genetic code (e.g., standard genetic code with ID 1)\n",
    "genetic_code = CodonTable.unambiguous_dna_by_id[1]\n",
    "\n",
    "# Get the mapping between codons and amino acids\n",
    "codon_amino_acid_mapping = genetic_code.forward_table\n",
    "\n",
    "# Print the mapping\n",
    "for codon, amino_acid in codon_amino_acid_mapping.items():\n",
    "    print(f\"Codon: {codon}, Amino Acid: {amino_acid}\")"
   ]
  },
  {
   "cell_type": "markdown",
   "id": "3647c3d9",
   "metadata": {},
   "source": [
    "# 3. Processing a pdb file"
   ]
  },
  {
   "cell_type": "markdown",
   "id": "8db16c1e",
   "metadata": {},
   "source": [
    "In the context of a PDB (Protein Data Bank) file and structural biology, a \"chain\" refers to a continuous sequence of amino acid or nucleotide residues in a biological macromolecule. These macromolecules can include proteins, nucleic acids (DNA or RNA), and other large biological complexes. Each chain is identified by a unique chain identifier character.\n",
    "\n",
    "    Chain Identifier:\n",
    "        In a PDB file, each chain is assigned a one-character identifier, typically an uppercase letter (A, B, C, etc.). "
   ]
  },
  {
   "cell_type": "markdown",
   "id": "d761386c",
   "metadata": {},
   "source": [
    "## 3.1 Simple pdb file"
   ]
  },
  {
   "cell_type": "markdown",
   "id": "bbb89cc7",
   "metadata": {},
   "source": [
    "Here is a simple example of a pdb file with three chains, each with a dipeptide."
   ]
  },
  {
   "cell_type": "markdown",
   "id": "85c40d97",
   "metadata": {},
   "source": [
    "```\n",
    "HEADER    SIMPLE PDB EXAMPLE                     8-MAR-2024\n",
    "TITLE     DIPEPTIDE STRUCTURE                  \n",
    "\n",
    "ATOM      1  N   ALA A   1      10.000  20.000  30.000  1.00  0.00\n",
    "ATOM      2  CA  ALA A   1      11.000  19.000  30.000  1.00  0.00\n",
    "ATOM      3  C   ALA A   1      12.000  19.000  31.000  1.00  0.00\n",
    "ATOM      4  O   ALA A   1      12.000  18.000  32.000  1.00  0.00\n",
    "\n",
    "ATOM      5  N   GLY B   2      14.000  22.000  30.000  1.00  0.00\n",
    "ATOM      6  CA  GLY B   2      15.000  21.000  30.000  1.00  0.00\n",
    "ATOM      7  C   GLY B   2      16.000  21.000  31.000  1.00  0.00\n",
    "ATOM      8  O   GLY B   2      16.000  20.000  32.000  1.00  0.00\n",
    "\n",
    "ATOM      9  N   SER C   3      18.000  24.000  30.000  1.00  0.00\n",
    "ATOM     10  CA  SER C   3      19.000  23.000  30.000  1.00  0.00\n",
    "ATOM     11  C   SER C   3      20.000  23.000  31.000  1.00  0.00\n",
    "ATOM     12  O   SER C   3      20.000  22.000  32.000  1.00  0.00\n",
    "\n",
    "TER\n",
    "END\n",
    "```"
   ]
  },
  {
   "cell_type": "markdown",
   "id": "27a88c3e",
   "metadata": {},
   "source": [
    "    HEADER: Provides general information about the structure.\n",
    "    TITLE: Describes the content of the structure.\n",
    "    ATOM: Provides atomic coordinates for each atom in the structure. Columns represent atom type, atom serial number, atom name, residue name, chain identifier, residue sequence number, X, Y, and Z coordinates.\n",
    "    TER: Marks the end of a chain.\n",
    "    END: Marks the end of the PDB file.\n",
    "\n",
    "In this example, there are three chains (A, B, and C), each representing a dipeptide. Chains are delineated by the TER (terminate) record."
   ]
  },
  {
   "cell_type": "code",
   "execution_count": 14,
   "id": "18843eb1",
   "metadata": {},
   "outputs": [
    {
     "name": "stdout",
     "output_type": "stream",
     "text": [
      "PDB data written to test.pdb\n"
     ]
    }
   ],
   "source": [
    "pdb_data = \"\"\"\n",
    "HEADER    SIMPLE PDB EXAMPLE                     8-MAR-2024\n",
    "TITLE     DIPEPTIDE STRUCTURE                  \n",
    "\n",
    "ATOM      1  N   ALA A   1      10.000  20.000  30.000  1.00  0.00\n",
    "ATOM      2  CA  ALA A   1      11.000  19.000  30.000  1.00  0.00\n",
    "ATOM      3  C   ALA A   1      12.000  19.000  31.000  1.00  0.00\n",
    "ATOM      4  O   ALA A   1      12.000  18.000  32.000  1.00  0.00\n",
    "\n",
    "ATOM      5  N   GLY B   2      14.000  22.000  30.000  1.00  0.00\n",
    "ATOM      6  CA  GLY B   2      15.000  21.000  30.000  1.00  0.00\n",
    "ATOM      7  C   GLY B   2      16.000  21.000  31.000  1.00  0.00\n",
    "ATOM      8  O   GLY B   2      16.000  20.000  32.000  1.00  0.00\n",
    "\n",
    "ATOM      9  N   SER C   3      18.000  24.000  30.000  1.00  0.00\n",
    "ATOM     10  CA  SER C   3      19.000  23.000  30.000  1.00  0.00\n",
    "ATOM     11  C   SER C   3      20.000  23.000  31.000  1.00  0.00\n",
    "ATOM     12  O   SER C   3      20.000  22.000  32.000  1.00  0.00\n",
    "\n",
    "TER\n",
    "END\n",
    "\"\"\"\n",
    "\n",
    "# Specify the file path\n",
    "file_path = \"test.pdb\"\n",
    "\n",
    "# Write the PDB data to the file\n",
    "with open(file_path, \"w\") as pdb_file:\n",
    "    pdb_file.write(pdb_data)\n",
    "\n",
    "print(f\"PDB data written to {file_path}\")"
   ]
  },
  {
   "cell_type": "code",
   "execution_count": 15,
   "id": "c0b37471",
   "metadata": {},
   "outputs": [
    {
     "name": "stdout",
     "output_type": "stream",
     "text": [
      "Number of chains: 3\n"
     ]
    }
   ],
   "source": [
    "from Bio import PDB\n",
    "\n",
    "# Load the PDB file\n",
    "parser = PDB.PDBParser(QUIET=True)\n",
    "structure = parser.get_structure(\"example_structure\", \"./test.pdb\")\n",
    "\n",
    "# Count the number of chains\n",
    "num_chains = len(list(structure.get_chains()))\n",
    "\n",
    "print(f\"Number of chains: {num_chains}\")"
   ]
  },
  {
   "cell_type": "markdown",
   "id": "85044fd8",
   "metadata": {},
   "source": [
    "## 3.2 Download `1xyz.pdb` from the PDB database"
   ]
  },
  {
   "cell_type": "code",
   "execution_count": 1,
   "id": "079f663d",
   "metadata": {},
   "outputs": [
    {
     "ename": "ModuleNotFoundError",
     "evalue": "No module named 'Bio'",
     "output_type": "error",
     "traceback": [
      "\u001b[1;31m---------------------------------------------------------------------------\u001b[0m",
      "\u001b[1;31mModuleNotFoundError\u001b[0m                       Traceback (most recent call last)",
      "Cell \u001b[1;32mIn[1], line 1\u001b[0m\n\u001b[1;32m----> 1\u001b[0m \u001b[38;5;28;01mfrom\u001b[39;00m \u001b[38;5;21;01mBio\u001b[39;00m \u001b[38;5;28;01mimport\u001b[39;00m PDB\n\u001b[0;32m      2\u001b[0m \u001b[38;5;28;01mfrom\u001b[39;00m \u001b[38;5;21;01mBio\u001b[39;00m\u001b[38;5;21;01m.\u001b[39;00m\u001b[38;5;21;01mPDB\u001b[39;00m \u001b[38;5;28;01mimport\u001b[39;00m MMCIFParser, PDBIO\n\u001b[0;32m      4\u001b[0m \u001b[38;5;66;03m# PDB ID for the structure\u001b[39;00m\n\u001b[0;32m      5\u001b[0m \u001b[38;5;66;03m# https://www.rcsb.org/structure/1xyz\u001b[39;00m\n\u001b[0;32m      6\u001b[0m \u001b[38;5;66;03m# A COMMON PROTEIN FOLD AND SIMILAR ACTIVE SITE IN TWO DISTINCT FAMILIES OF BETA-GLYCANASES\u001b[39;00m\n",
      "\u001b[1;31mModuleNotFoundError\u001b[0m: No module named 'Bio'"
     ]
    }
   ],
   "source": [
    "from Bio import PDB\n",
    "from Bio.PDB import MMCIFParser, PDBIO\n",
    "\n",
    "# PDB ID for the structure\n",
    "# https://www.rcsb.org/structure/1xyz\n",
    "# A COMMON PROTEIN FOLD AND SIMILAR ACTIVE SITE IN TWO DISTINCT FAMILIES OF BETA-GLYCANASES\n",
    "pdb_id = \"1XYZ\" \n",
    "\n",
    "# Create a PDBList object\n",
    "pdb_list = PDB.PDBList()\n",
    "\n",
    "# Specify the download path\n",
    "download_path = \"./\"\n",
    "\n",
    "# Download the PDB file\n",
    "pdb_file_path = pdb_list.retrieve_pdb_file(pdb_id, pdir=download_path)\n",
    "\n",
    "print(f\"PDB file downloaded to: {pdb_file_path}\")\n",
    "# The default download format has changed from PDB to PDBx/mmCif\n",
    "\n",
    "# CIF file path\n",
    "cif_file_path = \"./1xyz.cif\"\n",
    "\n",
    "# PDB file path\n",
    "pdb_file_path = \"./1xyz.pdb\"\n",
    "\n",
    "# Parse the CIF file\n",
    "cif_parser = MMCIFParser(QUIET=True)\n",
    "structure_from_cif = cif_parser.get_structure(\"my_structure\", cif_file_path)\n",
    "\n",
    "# Save the structure from CIF to PDB format\n",
    "pdbio = PDBIO()\n",
    "pdbio.set_structure(structure_from_cif)\n",
    "pdbio.save(pdb_file_path)\n",
    "\n",
    "# Parse the PDB file\n",
    "pdb_parser = PDB.PDBParser(QUIET=True)\n",
    "structure_from_pdb = pdb_parser.get_structure(\"my_structure\", pdb_file_path)\n",
    "\n",
    "# Iterate through the structure to extract information\n",
    "for model in structure_from_pdb:\n",
    "    for chain in model:\n",
    "        print(f\"Chain: {chain.id}\")\n",
    "        \n",
    "        for residue in chain:\n",
    "            print(f\"  Residue: {residue.resname} {residue.id[1]}\")\n",
    "            \n",
    "            for atom in residue:\n",
    "                print(f\"    Atom: {atom.name} - Coordinates: {atom.coord}\")"
   ]
  },
  {
   "cell_type": "code",
   "execution_count": null,
   "id": "5749fa0b",
   "metadata": {},
   "outputs": [],
   "source": []
  }
 ],
 "metadata": {
  "kernelspec": {
   "display_name": "Python 3 (ipykernel)",
   "language": "python",
   "name": "python3"
  },
  "language_info": {
   "codemirror_mode": {
    "name": "ipython",
    "version": 3
   },
   "file_extension": ".py",
   "mimetype": "text/x-python",
   "name": "python",
   "nbconvert_exporter": "python",
   "pygments_lexer": "ipython3",
   "version": "3.11.5"
  }
 },
 "nbformat": 4,
 "nbformat_minor": 5
}
